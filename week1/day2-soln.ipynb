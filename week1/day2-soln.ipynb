{
 "cells": [
  {
   "cell_type": "code",
   "execution_count": 1,
   "id": "4e2a9393-7767-488e-a8bf-27c12dca35bd",
   "metadata": {},
   "outputs": [],
   "source": [
    "# imports\n",
    "\n",
    "import os\n",
    "import requests\n",
    "from dotenv import load_dotenv\n",
    "from bs4 import BeautifulSoup\n",
    "from IPython.display import Markdown, display\n",
    "\n",
    "# If you get an error running this cell, then please head over to the troubleshooting notebook!"
   ]
  },
  {
   "cell_type": "code",
   "execution_count": 2,
   "id": "e711900e-f045-402d-9e73-7e88d4677b3c",
   "metadata": {},
   "outputs": [],
   "source": [
    "# Constants\n",
    "\n",
    "OLLAMA_API = \"http://localhost:11434/api/chat\"\n",
    "HEADERS = {\"Content-Type\": \"application/json\"}\n",
    "MODEL = \"llama3.2\""
   ]
  },
  {
   "cell_type": "code",
   "execution_count": 34,
   "id": "c5e793b2-6775-426a-a139-4848291d0463",
   "metadata": {},
   "outputs": [
    {
     "name": "stdout",
     "output_type": "stream",
     "text": [
      "\u001b[?2026h\u001b[?25l\u001b[1Gpulling manifest ⠋ \u001b[K\u001b[?25h\u001b[?2026l\u001b[?2026h\u001b[?25l\u001b[1Gpulling manifest ⠙ \u001b[K\u001b[?25h\u001b[?2026l\u001b[?2026h\u001b[?25l\u001b[1Gpulling manifest ⠹ \u001b[K\u001b[?25h\u001b[?2026l\u001b[?2026h\u001b[?25l\u001b[1Gpulling manifest ⠸ \u001b[K\u001b[?25h\u001b[?2026l\u001b[?2026h\u001b[?25l\u001b[1Gpulling manifest ⠼ \u001b[K\u001b[?25h\u001b[?2026l\u001b[?2026h\u001b[?25l\u001b[1Gpulling manifest ⠴ \u001b[K\u001b[?25h\u001b[?2026l\u001b[?2026h\u001b[?25l\u001b[1Gpulling manifest ⠦ \u001b[K\u001b[?25h\u001b[?2026l\u001b[?2026h\u001b[?25l\u001b[1Gpulling manifest ⠧ \u001b[K\u001b[?25h\u001b[?2026l\u001b[?2026h\u001b[?25l\u001b[1Gpulling manifest ⠇ \u001b[K\u001b[?25h\u001b[?2026l\u001b[?2026h\u001b[?25l\u001b[1Gpulling manifest ⠏ \u001b[K\u001b[?25h\u001b[?2026l\u001b[?2026h\u001b[?25l\u001b[1Gpulling manifest ⠋ \u001b[K\u001b[?25h\u001b[?2026l\u001b[?2026h\u001b[?25l\u001b[1Gpulling manifest \u001b[K\n",
      "pulling dde5aa3fc5ff... 100% ▕████████████████▏ 2.0 GB                         \u001b[K\n",
      "pulling 966de95ca8a6... 100% ▕████████████████▏ 1.4 KB                         \u001b[K\n",
      "pulling fcc5a6bec9da... 100% ▕████████████████▏ 7.7 KB                         \u001b[K\n",
      "pulling a70ff7e570d9... 100% ▕████████████████▏ 6.0 KB                         \u001b[K\n",
      "pulling 56bb8bd477a5... 100% ▕████████████████▏   96 B                         \u001b[K\n",
      "pulling 34bb5ab01051... 100% ▕████████████████▏  561 B                         \u001b[K\n",
      "verifying sha256 digest \u001b[K\n",
      "writing manifest \u001b[K\n",
      "success \u001b[K\u001b[?25h\u001b[?2026l\n"
     ]
    }
   ],
   "source": [
    "headers = {\n",
    " \"User-Agent\": \"Mozilla/5.0 (Windows NT 10.0; Win64; x64) AppleWebKit/537.36 (KHTML, like Gecko) Chrome/117.0.0.0 Safari/537.36\"\n",
    "}\n",
    "\n",
    "system_prompt = \"You are an assistant that analyzes the contents of a website \\\n",
    "and provides a short summary, ignoring text that might be navigation related. \\\n",
    "Respond in markdown.\"\n",
    "\n",
    "!ollama pull llama3.2\n",
    "\n",
    "class Website:\n",
    "\n",
    "    def __init__(self, url):\n",
    "        \"\"\"\n",
    "        Create this Website object from the given url using the BeautifulSoup library\n",
    "        \"\"\"\n",
    "        self.url = url\n",
    "        response = requests.get(url, headers=headers)\n",
    "        soup = BeautifulSoup(response.content, 'html.parser')\n",
    "        self.title = soup.title.string if soup.title else \"No title found\"\n",
    "        for irrelevant in soup.body([\"script\", \"style\", \"img\", \"input\"]):\n",
    "            irrelevant.decompose()\n",
    "        self.text = soup.body.get_text(separator=\"\\n\", strip=True)\n",
    "\n",
    "    def user_prompt_for(self):\n",
    "        user_prompt = f\"You are looking at a website titled {self.title}\"\n",
    "        user_prompt += \"\\nThe contents of this website is as follows; \\\n",
    "                        please provide a short summary of this website in markdown. \\\n",
    "                        If it includes news or announcements, then summarize these too.\\n\\n\"\n",
    "        user_prompt += self.text\n",
    "        return user_prompt\n",
    "\n",
    "    def messages_for(self):\n",
    "        return [\n",
    "            {\"role\": \"system\", \"content\": system_prompt},\n",
    "            {\"role\": \"user\", \"content\": self.user_prompt_for()}\n",
    "        ]\n",
    "\n",
    "    def generateSummary(self):\n",
    "        try:\n",
    "            payload = {\n",
    "                \"model\": MODEL,\n",
    "                \"messages\": self.messages_for(),\n",
    "                \"stream\": False\n",
    "            }\n",
    "            response = requests.post(OLLAMA_API, json=payload, headers=HEADERS)\n",
    "            response_text = response.json()['message']['content']\n",
    "            return response_text\n",
    "        except Error:\n",
    "            print('Error while generating summary: ' + str(Error))\n",
    "            return \"\"\n",
    "        \n",
    "        \n",
    "        "
   ]
  },
  {
   "cell_type": "code",
   "execution_count": 24,
   "id": "2ef960cf-6dc2-4cda-afb3-b38be12f4c97",
   "metadata": {},
   "outputs": [
    {
     "name": "stdout",
     "output_type": "stream",
     "text": [
      "Home - Edward Donner\n",
      "Home\n",
      "Connect Four\n",
      "Outsmart\n",
      "An arena that pits LLMs against each other in a battle of diplomacy and deviousness\n",
      "About\n",
      "Posts\n",
      "Well, hi there.\n",
      "I’m Ed. I like writing code and experimenting with LLMs, and hopefully you’re here because you do too. I also enjoy DJing (but I’m badly out of practice), amateur electronic music production (\n",
      "very\n",
      "amateur) and losing myself in\n",
      "Hacker News\n",
      ", nodding my head sagely to things I only half understand.\n",
      "I’m the co-founder and CTO of\n",
      "Nebula.io\n",
      ". We’re applying AI to a field where it can make a massive, positive impact: helping people discover their potential and pursue their reason for being. Recruiters use our product today to source, understand, engage and manage talent. I’m previously the founder and CEO of AI startup untapt,\n",
      "acquired in 2021\n",
      ".\n",
      "We work with groundbreaking, proprietary LLMs verticalized for talent, we’ve\n",
      "patented\n",
      "our matching model, and our award-winning platform has happy customers and tons of press coverage.\n",
      "Connect\n",
      "with me for more!\n",
      "January 23, 2025\n",
      "LLM Workshop – Hands-on with Agents – resources\n",
      "December 21, 2024\n",
      "Welcome, SuperDataScientists!\n",
      "November 13, 2024\n",
      "Mastering AI and LLM Engineering – Resources\n",
      "October 16, 2024\n",
      "From Software Engineer to AI Data Scientist – resources\n",
      "Navigation\n",
      "Home\n",
      "Connect Four\n",
      "Outsmart\n",
      "An arena that pits LLMs against each other in a battle of diplomacy and deviousness\n",
      "About\n",
      "Posts\n",
      "Get in touch\n",
      "ed [at] edwarddonner [dot] com\n",
      "www.edwarddonner.com\n",
      "Follow me\n",
      "LinkedIn\n",
      "Twitter\n",
      "Facebook\n",
      "Subscribe to newsletter\n",
      "Type your email…\n",
      "Subscribe\n"
     ]
    }
   ],
   "source": [
    "# Let's try one out. Change the website and add print statements to follow along.\n",
    "\n",
    "ed = Website(\"https://edwarddonner.com\")\n",
    "print(ed.title)\n",
    "print(ed.text)"
   ]
  },
  {
   "cell_type": "code",
   "execution_count": 25,
   "id": "26448ec4-5c00-4204-baec-7df91d11ff2e",
   "metadata": {},
   "outputs": [
    {
     "name": "stdout",
     "output_type": "stream",
     "text": [
      "You are looking at a website titled Home - Edward Donner\n",
      "The contents of this website is as follows;                         please provide a short summary of this website in markdown.                         If it includes news or announcements, then summarize these too.\n",
      "\n",
      "Home\n",
      "Connect Four\n",
      "Outsmart\n",
      "An arena that pits LLMs against each other in a battle of diplomacy and deviousness\n",
      "About\n",
      "Posts\n",
      "Well, hi there.\n",
      "I’m Ed. I like writing code and experimenting with LLMs, and hopefully you’re here because you do too. I also enjoy DJing (but I’m badly out of practice), amateur electronic music production (\n",
      "very\n",
      "amateur) and losing myself in\n",
      "Hacker News\n",
      ", nodding my head sagely to things I only half understand.\n",
      "I’m the co-founder and CTO of\n",
      "Nebula.io\n",
      ". We’re applying AI to a field where it can make a massive, positive impact: helping people discover their potential and pursue their reason for being. Recruiters use our product today to source, understand, engage and manage talent. I’m previously the founder and CEO of AI startup untapt,\n",
      "acquired in 2021\n",
      ".\n",
      "We work with groundbreaking, proprietary LLMs verticalized for talent, we’ve\n",
      "patented\n",
      "our matching model, and our award-winning platform has happy customers and tons of press coverage.\n",
      "Connect\n",
      "with me for more!\n",
      "January 23, 2025\n",
      "LLM Workshop – Hands-on with Agents – resources\n",
      "December 21, 2024\n",
      "Welcome, SuperDataScientists!\n",
      "November 13, 2024\n",
      "Mastering AI and LLM Engineering – Resources\n",
      "October 16, 2024\n",
      "From Software Engineer to AI Data Scientist – resources\n",
      "Navigation\n",
      "Home\n",
      "Connect Four\n",
      "Outsmart\n",
      "An arena that pits LLMs against each other in a battle of diplomacy and deviousness\n",
      "About\n",
      "Posts\n",
      "Get in touch\n",
      "ed [at] edwarddonner [dot] com\n",
      "www.edwarddonner.com\n",
      "Follow me\n",
      "LinkedIn\n",
      "Twitter\n",
      "Facebook\n",
      "Subscribe to newsletter\n",
      "Type your email…\n",
      "Subscribe\n"
     ]
    }
   ],
   "source": [
    "print(ed.user_prompt_for())"
   ]
  },
  {
   "cell_type": "code",
   "execution_count": 26,
   "id": "36478464-39ee-485c-9f3f-6a4e458dbc9c",
   "metadata": {},
   "outputs": [
    {
     "data": {
      "text/plain": [
       "[{'role': 'system',\n",
       "  'content': 'You are an assistant that analyzes the contents of a website and provides a short summary, ignoring text that might be navigation related. Respond in markdown.'},\n",
       " {'role': 'user',\n",
       "  'content': 'You are looking at a website titled Home - Edward Donner\\nThe contents of this website is as follows;                         please provide a short summary of this website in markdown.                         If it includes news or announcements, then summarize these too.\\n\\nHome\\nConnect Four\\nOutsmart\\nAn arena that pits LLMs against each other in a battle of diplomacy and deviousness\\nAbout\\nPosts\\nWell, hi there.\\nI’m Ed. I like writing code and experimenting with LLMs, and hopefully you’re here because you do too. I also enjoy DJing (but I’m badly out of practice), amateur electronic music production (\\nvery\\namateur) and losing myself in\\nHacker News\\n, nodding my head sagely to things I only half understand.\\nI’m the co-founder and CTO of\\nNebula.io\\n. We’re applying AI to a field where it can make a massive, positive impact: helping people discover their potential and pursue their reason for being. Recruiters use our product today to source, understand, engage and manage talent. I’m previously the founder and CEO of AI startup untapt,\\nacquired in 2021\\n.\\nWe work with groundbreaking, proprietary LLMs verticalized for talent, we’ve\\npatented\\nour matching model, and our award-winning platform has happy customers and tons of press coverage.\\nConnect\\nwith me for more!\\nJanuary 23, 2025\\nLLM Workshop – Hands-on with Agents – resources\\nDecember 21, 2024\\nWelcome, SuperDataScientists!\\nNovember 13, 2024\\nMastering AI and LLM Engineering – Resources\\nOctober 16, 2024\\nFrom Software Engineer to AI Data Scientist – resources\\nNavigation\\nHome\\nConnect Four\\nOutsmart\\nAn arena that pits LLMs against each other in a battle of diplomacy and deviousness\\nAbout\\nPosts\\nGet in touch\\ned [at] edwarddonner [dot] com\\nwww.edwarddonner.com\\nFollow me\\nLinkedIn\\nTwitter\\nFacebook\\nSubscribe to newsletter\\nType your email…\\nSubscribe'}]"
      ]
     },
     "execution_count": 26,
     "metadata": {},
     "output_type": "execute_result"
    }
   ],
   "source": [
    "# Try this out, and then try for a few more websites\n",
    "\n",
    "ed.messages_for()"
   ]
  },
  {
   "cell_type": "code",
   "execution_count": 35,
   "id": "905b9919-aba7-45b5-ae65-81b3d1d78e34",
   "metadata": {},
   "outputs": [],
   "source": [
    "# And now: call the OpenAI API. You will get very familiar with this!\n",
    "\n",
    "def summarize(url):\n",
    "    website = Website(url)\n",
    "    messages = website.messages_for()\n",
    "    return website.generateSummary()"
   ]
  },
  {
   "cell_type": "code",
   "execution_count": 31,
   "id": "05e38d41-dfa4-4b20-9c96-c46ea75d9fb5",
   "metadata": {},
   "outputs": [
    {
     "name": "stdout",
     "output_type": "stream",
     "text": [
      "response: **Summary**\n",
      "===============\n",
      "\n",
      "This website belongs to Edward Donner, the co-founder and CTO of Nebula.io. The website appears to be a personal blog or portfolio, showcasing his interests in artificial intelligence (AI), machine learning (ML), and related technologies.\n",
      "\n",
      "### News and Announcements\n",
      "---------------------------\n",
      "\n",
      "* **January 23, 2025**: Upcoming LLM Workshop – Hands-on with Agents – resources\n",
      "* **December 21, 2024**: Welcome to the SuperDataScientists community!\n",
      "* **November 13, 2024**: Mastering AI and LLM Engineering – Resources\n",
      "* **October 16, 2024**: From Software Engineer to AI Data Scientist – resources\n",
      "\n",
      "### Content Overview\n",
      "-------------------\n",
      "\n",
      "The website is divided into several sections:\n",
      "\n",
      "*   Home: Introduction to Edward Donner\n",
      "*   Connect Four: Not provided in the given text\n",
      "*   Outsmart: An arena that pits LLMs against each other in a battle of diplomacy and deviousness\n",
      "*   About: Posts, contact information, and social media links\n",
      "\n",
      "Overall, this website seems to focus on Edward Donner's personal projects and interests related to AI and machine learning.\n"
     ]
    },
    {
     "data": {
      "text/plain": [
       "\"**Summary**\\n===============\\n\\nThis website belongs to Edward Donner, the co-founder and CTO of Nebula.io. The website appears to be a personal blog or portfolio, showcasing his interests in artificial intelligence (AI), machine learning (ML), and related technologies.\\n\\n### News and Announcements\\n---------------------------\\n\\n* **January 23, 2025**: Upcoming LLM Workshop – Hands-on with Agents – resources\\n* **December 21, 2024**: Welcome to the SuperDataScientists community!\\n* **November 13, 2024**: Mastering AI and LLM Engineering – Resources\\n* **October 16, 2024**: From Software Engineer to AI Data Scientist – resources\\n\\n### Content Overview\\n-------------------\\n\\nThe website is divided into several sections:\\n\\n*   Home: Introduction to Edward Donner\\n*   Connect Four: Not provided in the given text\\n*   Outsmart: An arena that pits LLMs against each other in a battle of diplomacy and deviousness\\n*   About: Posts, contact information, and social media links\\n\\nOverall, this website seems to focus on Edward Donner's personal projects and interests related to AI and machine learning.\""
      ]
     },
     "execution_count": 31,
     "metadata": {},
     "output_type": "execute_result"
    }
   ],
   "source": [
    "summarize(\"https://edwarddonner.com\")"
   ]
  },
  {
   "cell_type": "code",
   "execution_count": 36,
   "id": "3d926d59-450e-4609-92ba-2d6f244f1342",
   "metadata": {},
   "outputs": [],
   "source": [
    "# A function to display this nicely in the Jupyter output, using markdown\n",
    "\n",
    "def display_summary(url):\n",
    "    summary = summarize(url)\n",
    "    display(Markdown(summary))"
   ]
  },
  {
   "cell_type": "code",
   "execution_count": 37,
   "id": "3018853a-445f-41ff-9560-d925d1774b2f",
   "metadata": {},
   "outputs": [
    {
     "data": {
      "text/markdown": [
       "### Summary of Website\n",
       "\n",
       "This website appears to be the personal blog of Edward Donner, a technology entrepreneur and AI researcher. The main sections are:\n",
       "\n",
       "#### About Me\n",
       "Edward introduces himself as the co-founder and CTO of Nebula.io, an AI startup that applies machine learning (ML) to help people discover their potential.\n",
       "\n",
       "#### News and Announcements\n",
       "The website mentions three recent announcements:\n",
       "* **LLM Workshop – Hands-on with Agents**: A workshop event where participants can learn about agents in LLMs.\n",
       "* **December 21, 2024: Welcome, SuperDataScientists!** (no further details available)\n",
       "* **October 16, 2024: From Software Engineer to AI Data Scientist – resources** (link to a resource page)\n",
       "\n",
       "#### Projects and Ventures\n",
       "Edward is involved with several projects, including:\n",
       "* Nebula.io: An AI startup that applies ML to talent acquisition and management.\n",
       "* untapt: An AI startup acquired by another company in 2021.\n",
       "\n",
       "### Links\n",
       "\n",
       "* Contact Information: ed [@] edwarddonner [dot] com\n",
       "* Social Media:\n",
       "\t+ LinkedIn\n",
       "\t+ Twitter\n",
       "\t+ Facebook"
      ],
      "text/plain": [
       "<IPython.core.display.Markdown object>"
      ]
     },
     "metadata": {},
     "output_type": "display_data"
    }
   ],
   "source": [
    "display_summary(\"https://edwarddonner.com\")"
   ]
  },
  {
   "cell_type": "code",
   "execution_count": 38,
   "id": "45d83403-a24c-44b5-84ac-961449b4008f",
   "metadata": {},
   "outputs": [
    {
     "data": {
      "text/markdown": [
       "This is a CNN news feed, and it appears to be a collection of various articles, videos, and podcasts related to current events, politics, science, technology, and more. Here are some of the top stories and topics that caught my attention:\n",
       "\n",
       "**Politics and World News**\n",
       "\n",
       "* Ukraine-Russia War: Tensions remain high between Ukraine and Russia, with both sides accusing each other of aggression.\n",
       "* Israel-Hamas War: The conflict in Gaza continues to escalate, with Palestinian militants firing rockets at Israeli cities.\n",
       "* US Politics: President Biden's approval ratings are sinking, according to a new poll.\n",
       "* Climate Change: The world is facing a climate crisis, and scientists are warning that urgent action is needed to mitigate its effects.\n",
       "\n",
       "**Science and Technology**\n",
       "\n",
       "* AI and Machine Learning: Tech companies are developing more sophisticated AI algorithms, raising concerns about job displacement and bias.\n",
       "* Space Exploration: NASA's Artemis program aims to return humans to the moon by 2025.\n",
       "* Cybersecurity: Hackers are targeting small businesses and individuals with increasingly sophisticated attacks.\n",
       "\n",
       "**Entertainment**\n",
       "\n",
       "* Music: Drake dropped a new album, and fans are divided on its quality.\n",
       "* Movies: The latest Marvel movie has broken box office records, but critics are panning it.\n",
       "* Celebrity News: Gene Hackman's iconic roles have been remembered in a new retrospective exhibit.\n",
       "\n",
       "**Business and Economy**\n",
       "\n",
       "* Finance: Tropicana is in big financial trouble, and the company is struggling to stay afloat.\n",
       "* Retail: Goya Foods has been embroiled in controversy over its labor practices.\n",
       "* Investment: Amazon is developing more AI-powered devices, raising concerns about job displacement.\n",
       "\n",
       "**Health and Wellness**\n",
       "\n",
       "* Mental Health: Robert F. Kennedy Jr.'s book on mental health has sparked debate among experts.\n",
       "* Fitness: Regular exercise can reduce the risk of Alzheimer's disease, according to new research.\n",
       "* Nutrition: Eating plenty of fluids is essential during Ramadan, which begins next month.\n",
       "\n",
       "These are just a few of the many topics and stories that are currently trending. I hope this gives you an idea of what's happening in the world today!"
      ],
      "text/plain": [
       "<IPython.core.display.Markdown object>"
      ]
     },
     "metadata": {},
     "output_type": "display_data"
    }
   ],
   "source": [
    "display_summary(\"https://cnn.com\")"
   ]
  },
  {
   "cell_type": "code",
   "execution_count": 41,
   "id": "75e9fd40-b354-4341-991e-863ef2e59db7",
   "metadata": {},
   "outputs": [
    {
     "data": {
      "text/markdown": [
       "**Anthropic Website Summary**\n",
       "==========================\n",
       "\n",
       "### Overview\n",
       "\n",
       "Anthropic is an AI safety and research company based in San Francisco, with an interdisciplinary team experienced in ML, physics, policy, and product.\n",
       "\n",
       "### News and Announcements\n",
       "\n",
       "* **Claude 3.7 Sonnet**: Our most intelligent AI model is now available.\n",
       "* **Switch to annual plan**: Unlock big ideas with a year of Claude Pro for $180/year (reg. $216) by February 28, 2025.\n",
       "* **Alignment research**: Constitutional AI: Harmlessness from AI Feedback and Core Views on AI Safety: When, Why, What, and How.\n",
       "\n",
       "### Research Insights\n",
       "\n",
       "Anthropic publishes research insights on AI safety, including alignment, constitutional AI, and other topics related to the field.\n",
       "\n",
       "### Products and Services\n",
       "\n",
       "Anthropic offers a range of products and services, including Claude, an AI platform for building custom experiences and applications.\n",
       "\n",
       "### Company Information\n",
       "\n",
       "* **About**: Learn more about Anthropic's team, mission, and values.\n",
       "* **Careers**: See open roles at Anthropic.\n",
       "* **Press Inquiries**: Contact Anthropic for media inquiries.\n",
       "* **Support**: Access support resources and status information."
      ],
      "text/plain": [
       "<IPython.core.display.Markdown object>"
      ]
     },
     "metadata": {},
     "output_type": "display_data"
    }
   ],
   "source": [
    "display_summary(\"https://anthropic.com\")"
   ]
  }
 ],
 "metadata": {
  "kernelspec": {
   "display_name": "Python 3 (ipykernel)",
   "language": "python",
   "name": "python3"
  },
  "language_info": {
   "codemirror_mode": {
    "name": "ipython",
    "version": 3
   },
   "file_extension": ".py",
   "mimetype": "text/x-python",
   "name": "python",
   "nbconvert_exporter": "python",
   "pygments_lexer": "ipython3",
   "version": "3.11.11"
  }
 },
 "nbformat": 4,
 "nbformat_minor": 5
}
